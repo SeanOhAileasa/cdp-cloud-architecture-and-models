{
 "cells": [
  {
   "cell_type": "markdown",
   "id": "d4ee9e4b",
   "metadata": {},
   "source": [
    "***\n",
    "< [Home](https://github.com/SeanOhAileasa) | [README](https://github.com/SeanOhAileasa/cdp-cloud-architecture-and-models/blob/main/README.md) >\n",
    "\n",
    "## CompTIA Cloud+ - Course Material 2022\n",
    "###### Topic: ``Cloud Architecture & Models``\n",
    "***"
   ]
  },
  {
   "cell_type": "markdown",
   "id": "e7228f57",
   "metadata": {},
   "source": [
    "<a id=\"top\"></a>\n",
    "***\n",
    "## Table of Contents\n",
    "***"
   ]
  },
  {
   "cell_type": "markdown",
   "id": "c2bb5e7b",
   "metadata": {},
   "source": [
    "### [Cloud Architecture & Models](#aa) <br/><br/>\n",
    "<hr width=50%;>"
   ]
  },
  {
   "cell_type": "markdown",
   "id": "ee20afee",
   "metadata": {},
   "source": [
    "### [Cloud Deployment Models](#A) <br/><br/>\n",
    "<hr width=50%;>"
   ]
  },
  {
   "cell_type": "markdown",
   "id": "5b74a380",
   "metadata": {},
   "source": [
    "### [Infrastructure as a Service](#B) <br/><br/>\n",
    "<hr width=50%;>"
   ]
  },
  {
   "cell_type": "markdown",
   "id": "be8f7787",
   "metadata": {},
   "source": [
    "### [Platform as a Service](#C) <br/><br/>\n",
    "<hr width=50%;>"
   ]
  },
  {
   "cell_type": "markdown",
   "id": "8e8c09cf",
   "metadata": {},
   "source": [
    "### [Software as a Service](#D) <br/><br/>\n",
    "<hr width=50%;>"
   ]
  },
  {
   "cell_type": "markdown",
   "id": "55459d00",
   "metadata": {},
   "source": [
    "### [Internet of Things](#E) <br/><br/>\n",
    "<hr width=50%;>"
   ]
  },
  {
   "cell_type": "markdown",
   "id": "bd501bff",
   "metadata": {},
   "source": [
    "### [Serverless Computing](#F) <br/><br/>\n",
    "<hr width=50%;>"
   ]
  },
  {
   "cell_type": "markdown",
   "id": "e09137f4",
   "metadata": {},
   "source": [
    "### [Machine Learning and Artificial Intelligence](#G) <br/><br/>\n",
    "<hr width=50%;>"
   ]
  },
  {
   "cell_type": "markdown",
   "id": "1658a004",
   "metadata": {},
   "source": [
    "### [Shared Responsibility Model](#H) <br/><br/>\n",
    "<hr width=50%;>"
   ]
  },
  {
   "cell_type": "markdown",
   "id": "7209d90f",
   "metadata": {},
   "source": [
    "### [Using Infrastructure as a Service - Virtual Machines](#I) <br/><br/>\n",
    "<hr width=50%;>"
   ]
  },
  {
   "cell_type": "markdown",
   "id": "cfaa9647",
   "metadata": {},
   "source": [
    "### [Using Software as a Service - Applications](#J) <br/><br/>\n",
    "<hr width=50%;>"
   ]
  },
  {
   "cell_type": "markdown",
   "id": "3237047c",
   "metadata": {},
   "source": [
    "### [Course Summary](#K) <br/><br/>\n",
    "<hr width=50%;>"
   ]
  },
  {
   "cell_type": "markdown",
   "id": "bf2b95e2",
   "metadata": {},
   "source": [
    "***\n",
    "## END"
   ]
  },
  {
   "cell_type": "markdown",
   "id": "34aa6eb5",
   "metadata": {},
   "source": [
    "< [Table of Contents](#top) | [References](#references) >\n",
    "<a id=\"aa\"></a>\n",
    "***\n",
    "### Cloud Architecture & Models\n",
    "***"
   ]
  },
  {
   "cell_type": "markdown",
   "id": "d3b879d7",
   "metadata": {},
   "source": []
  },
  {
   "cell_type": "markdown",
   "id": "b7b2a77b",
   "metadata": {},
   "source": [
    "< [Table of Contents](#top) | [References](#references) >\n",
    "<a id=\"A\"></a>\n",
    "***\n",
    "### Cloud Deployment Models\n",
    "*** "
   ]
  },
  {
   "cell_type": "markdown",
   "id": "a818ee3c",
   "metadata": {},
   "source": []
  },
  {
   "cell_type": "markdown",
   "id": "51db71c0",
   "metadata": {},
   "source": [
    "< [Table of Contents](#top) | [References](#references) >\n",
    "<a id=\"B\"></a>\n",
    "***\n",
    "### Infrastructure as a Service\n",
    "*** "
   ]
  },
  {
   "cell_type": "markdown",
   "id": "db09c983",
   "metadata": {},
   "source": []
  },
  {
   "cell_type": "markdown",
   "id": "22eb14f5",
   "metadata": {},
   "source": [
    "< [Table of Contents](#top) | [References](#references) >\n",
    "<a id=\"C\"></a>\n",
    "***\n",
    "### Platform as a Service\n",
    "*** "
   ]
  },
  {
   "cell_type": "markdown",
   "id": "158eb0c5",
   "metadata": {},
   "source": []
  },
  {
   "cell_type": "markdown",
   "id": "a4daf090",
   "metadata": {},
   "source": [
    "< [Table of Contents](#top) | [References](#references) >\n",
    "<a id=\"D\"></a>\n",
    "***\n",
    "### Software as a Service\n",
    "*** "
   ]
  },
  {
   "cell_type": "markdown",
   "id": "b3b3db0d",
   "metadata": {},
   "source": []
  },
  {
   "cell_type": "markdown",
   "id": "c5905b4b",
   "metadata": {},
   "source": [
    "< [Table of Contents](#top) | [References](#references) >\n",
    "<a id=\"E\"></a>\n",
    "***\n",
    "### Internet of Things\n",
    "*** "
   ]
  },
  {
   "cell_type": "markdown",
   "id": "9c824456",
   "metadata": {},
   "source": []
  },
  {
   "cell_type": "markdown",
   "id": "9d8c4ae0",
   "metadata": {},
   "source": [
    "< [Table of Contents](#top) | [References](#references) >\n",
    "<a id=\"F\"></a>\n",
    "***\n",
    "### Serverless Computing\n",
    "*** "
   ]
  },
  {
   "cell_type": "markdown",
   "id": "4afffc5f",
   "metadata": {},
   "source": []
  },
  {
   "cell_type": "markdown",
   "id": "80be0a41",
   "metadata": {},
   "source": [
    "< [Table of Contents](#top) | [References](#references) >\n",
    "<a id=\"G\"></a>\n",
    "***\n",
    "### Machine Learning and Artificial Intelligence\n",
    "*** "
   ]
  },
  {
   "cell_type": "markdown",
   "id": "2bcafa81",
   "metadata": {},
   "source": []
  },
  {
   "cell_type": "markdown",
   "id": "161fe391",
   "metadata": {},
   "source": [
    "< [Table of Contents](#top) | [References](#references) >\n",
    "<a id=\"H\"></a>\n",
    "***\n",
    "### Shared Responsibility Model\n",
    "*** "
   ]
  },
  {
   "cell_type": "markdown",
   "id": "fdfbd27c",
   "metadata": {},
   "source": []
  },
  {
   "cell_type": "markdown",
   "id": "ac9a1f75",
   "metadata": {},
   "source": [
    "< [Table of Contents](#top) | [References](#references) >\n",
    "<a id=\"I\"></a>\n",
    "***\n",
    "### Using Infrastructure as a Service - Virtual Machines\n",
    "*** "
   ]
  },
  {
   "cell_type": "markdown",
   "id": "8ca1baa7",
   "metadata": {},
   "source": []
  },
  {
   "cell_type": "markdown",
   "id": "3f45d304",
   "metadata": {},
   "source": [
    "< [Table of Contents](#top) | [References](#references) >\n",
    "<a id=\"J\"></a>\n",
    "***\n",
    "### Using Software as a Service - Applications\n",
    "*** "
   ]
  },
  {
   "cell_type": "markdown",
   "id": "9a78fd33",
   "metadata": {},
   "source": []
  },
  {
   "cell_type": "markdown",
   "id": "173e78b5",
   "metadata": {},
   "source": [
    "< [Table of Contents](#top) | [References](#references) >\n",
    "<a id=\"K\"></a>\n",
    "***\n",
    "### Course Summary\n",
    "*** "
   ]
  },
  {
   "cell_type": "markdown",
   "id": "579d8854",
   "metadata": {},
   "source": []
  },
  {
   "cell_type": "markdown",
   "id": "2cc20932",
   "metadata": {},
   "source": [
    "***\n",
    "## END"
   ]
  },
  {
   "cell_type": "markdown",
   "id": "e0e42d51",
   "metadata": {},
   "source": [
    "< [Table of Contents](#top) >\n",
    "<a id=\"references\"></a>\n",
    "***\n",
    "## References\n",
    "***"
   ]
  },
  {
   "cell_type": "markdown",
   "id": "757bf6de",
   "metadata": {},
   "source": [
    "&nbsp;&nbsp;&nbsp;&nbsp;&nbsp;&nbsp;&nbsp;&nbsp;&nbsp;skillsoft, \"Cloud Architecture and Models,\" [skillsoft.com](https://web.archive.org/web/20220403100053/https://www.skillsoft.com/), n.d.."
   ]
  },
  {
   "cell_type": "markdown",
   "id": "b33c372a",
   "metadata": {},
   "source": [
    "***\n",
    "## END"
   ]
  },
  {
   "cell_type": "markdown",
   "id": "e5961b4d",
   "metadata": {},
   "source": [
    "< [Table of Contents](#top) | [References](#references) >\n",
    "<a id=\"appendix\"></a>\n",
    "***\n",
    "## Appendix\n",
    "***"
   ]
  },
  {
   "cell_type": "markdown",
   "id": "00d82a82",
   "metadata": {},
   "source": [
    "***\n",
    "## END"
   ]
  },
  {
   "cell_type": "code",
   "execution_count": 1,
   "id": "706756a2",
   "metadata": {},
   "outputs": [
    {
     "name": "stderr",
     "output_type": "stream",
     "text": [
      "C:\\Users\\SeanOhAileasa\\AppData\\Local\\Temp\\ipykernel_7944\\1322614208.py:1: DeprecationWarning: Importing display from IPython.core.display is deprecated since IPython 7.14, please import from IPython display\n",
      "  from IPython.core.display import display,HTML\n"
     ]
    },
    {
     "data": {
      "text/html": [
       "<style>.container { width:100% !important; }</style>"
      ],
      "text/plain": [
       "<IPython.core.display.HTML object>"
      ]
     },
     "metadata": {},
     "output_type": "display_data"
    }
   ],
   "source": [
    "from IPython.core.display import display,HTML\n",
    "display(HTML(\"<style>.container { width:100% !important; }</style>\"))"
   ]
  },
  {
   "cell_type": "markdown",
   "id": "899c1783",
   "metadata": {},
   "source": [
    "# END JUPYTER NOTEBOOK"
   ]
  }
 ],
 "metadata": {
  "kernelspec": {
   "display_name": "Python 3 (ipykernel)",
   "language": "python",
   "name": "python3"
  },
  "language_info": {
   "codemirror_mode": {
    "name": "ipython",
    "version": 3
   },
   "file_extension": ".py",
   "mimetype": "text/x-python",
   "name": "python",
   "nbconvert_exporter": "python",
   "pygments_lexer": "ipython3",
   "version": "3.9.12"
  }
 },
 "nbformat": 4,
 "nbformat_minor": 5
}
